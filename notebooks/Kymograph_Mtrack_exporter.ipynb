{
 "cells": [
  {
   "cell_type": "code",
   "execution_count": 1,
   "id": "63ea3788",
   "metadata": {},
   "outputs": [],
   "source": [
    "from pyfiji import export\n",
    "from pathlib import Path\n",
    "import os\n",
    "import glob\n",
    "%gui qt"
   ]
  },
  {
   "cell_type": "code",
   "execution_count": 2,
   "id": "8e38f5f2",
   "metadata": {},
   "outputs": [],
   "source": [
    "sourcedir = 'C:/Users/rando/Downloads/Kymo_MT/'\n",
    "savedir = 'C:/Users/rando/Downloads/Kymo_MT/Ransac_analysis/'\n",
    "\n"
   ]
  },
  {
   "cell_type": "code",
   "execution_count": 3,
   "id": "bbda148f",
   "metadata": {
    "scrolled": false
   },
   "outputs": [
    {
     "name": "stderr",
     "output_type": "stream",
     "text": [
      "WARNING: DirectWrite: CreateFontFaceFromHDC() failed (Indicates an error in an input file such as a font file.) for QFontDef(Family=\"\", pointsize=12, pixelsize=16, styleHint=5, weight=50, stretch=100, hintingPreference=0) LOGFONT(\"MS Sans Serif\", lfWidth=0, lfHeight=-16) dpi=96\n"
     ]
    },
    {
     "name": "stdout",
     "output_type": "stream",
     "text": [
      "PyDIPjavaio unavailable:\n",
      "DLL load failed while importing PyDIPjavaio: The specified module could not be found.\n",
      "\n",
      "libjvm not found\n",
      "DIPlib -- a quantitative image analysis library\n",
      "Version 3.1.0 (Sep 24 2021)\n",
      "For more information see https://diplib.org\n",
      "reading image\n",
      "image read\n"
     ]
    },
    {
     "name": "stderr",
     "output_type": "stream",
     "text": [
      "color_transformations.py (55): The provided edge_color parameter has 2 entries, while the data contains 1 entries. Setting edge_color to black.\n"
     ]
    }
   ],
   "source": [
    "\n",
    "export(sourcedir, savedir)"
   ]
  },
  {
   "cell_type": "code",
   "execution_count": null,
   "id": "6f56b050",
   "metadata": {},
   "outputs": [],
   "source": []
  }
 ],
 "metadata": {
  "kernelspec": {
   "display_name": "Python [conda env:naparienv] *",
   "language": "python",
   "name": "conda-env-naparienv-py"
  },
  "language_info": {
   "codemirror_mode": {
    "name": "ipython",
    "version": 3
   },
   "file_extension": ".py",
   "mimetype": "text/x-python",
   "name": "python",
   "nbconvert_exporter": "python",
   "pygments_lexer": "ipython3",
   "version": "3.9.0"
  }
 },
 "nbformat": 4,
 "nbformat_minor": 5
}
