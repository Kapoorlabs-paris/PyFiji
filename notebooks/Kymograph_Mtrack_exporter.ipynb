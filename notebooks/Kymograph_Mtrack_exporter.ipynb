{
 "cells": [
  {
   "cell_type": "code",
   "execution_count": 1,
   "id": "46346578",
   "metadata": {},
   "outputs": [],
   "source": [
    "from pyfiji import export\n",
    "from pathlib import Path\n",
    "import os\n",
    "import glob\n",
    "%gui qt"
   ]
  },
  {
   "cell_type": "code",
   "execution_count": 2,
   "id": "ea35e9e2",
   "metadata": {},
   "outputs": [],
   "source": [
    "sourcedir = '/home/varunkapoor/Kymo_MT/'\n",
    "savedir = '/home/varunkapoor/Kymo_MT/Ransac_analysis'\n",
    "\n"
   ]
  },
  {
   "cell_type": "code",
   "execution_count": 3,
   "id": "75b14922",
   "metadata": {
    "scrolled": false
   },
   "outputs": [
    {
     "name": "stdout",
     "output_type": "stream",
     "text": [
      "DIPlib -- a quantitative image analysis library\n",
      "Version 3.1.0 (Sep 24 2021)\n",
      "For more information see https://diplib.org\n",
      "reading image\n",
      "image read\n"
     ]
    }
   ],
   "source": [
    "export(sourcedir, savedir)"
   ]
  },
  {
   "cell_type": "code",
   "execution_count": null,
   "id": "960ec254",
   "metadata": {},
   "outputs": [],
   "source": []
  }
 ],
 "metadata": {
  "kernelspec": {
   "display_name": "Python [conda env:naparienv] *",
   "language": "python",
   "name": "conda-env-naparienv-py"
  },
  "language_info": {
   "codemirror_mode": {
    "name": "ipython",
    "version": 3
   },
   "file_extension": ".py",
   "mimetype": "text/x-python",
   "name": "python",
   "nbconvert_exporter": "python",
   "pygments_lexer": "ipython3",
   "version": "3.9.0"
  }
 },
 "nbformat": 4,
 "nbformat_minor": 5
}
