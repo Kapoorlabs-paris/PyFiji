{
 "cells": [
  {
   "cell_type": "code",
   "execution_count": 1,
   "id": "63ea3788",
   "metadata": {},
   "outputs": [],
   "source": [
    "from pyfiji import export\n",
    "from pathlib import Path\n",
    "import os\n",
    "import glob\n",
    "%gui qt"
   ]
  },
  {
   "cell_type": "code",
   "execution_count": 2,
   "id": "8e38f5f2",
   "metadata": {},
   "outputs": [],
   "source": [
    "sourcedir = 'C:/Users/rando/Downloads/Kymo_MT/'\n",
    "savedir = 'C:/Users/rando/Downloads/Kymo_MT/Ransac_analysis/'\n",
    "\n"
   ]
  },
  {
   "cell_type": "code",
   "execution_count": null,
   "id": "bbda148f",
   "metadata": {
    "scrolled": false
   },
   "outputs": [],
   "source": [
    "\n",
    "export(sourcedir, savedir)"
   ]
  },
  {
   "cell_type": "code",
   "execution_count": null,
   "id": "6f56b050",
   "metadata": {},
   "outputs": [],
   "source": []
  }
 ],
 "metadata": {
  "kernelspec": {
   "display_name": "Python [conda env:naparienv] *",
   "language": "python",
   "name": "conda-env-naparienv-py"
  },
  "language_info": {
   "codemirror_mode": {
    "name": "ipython",
    "version": 3
   },
   "file_extension": ".py",
   "mimetype": "text/x-python",
   "name": "python",
   "nbconvert_exporter": "python",
   "pygments_lexer": "ipython3",
   "version": "3.9.0"
  }
 },
 "nbformat": 4,
 "nbformat_minor": 5
}
