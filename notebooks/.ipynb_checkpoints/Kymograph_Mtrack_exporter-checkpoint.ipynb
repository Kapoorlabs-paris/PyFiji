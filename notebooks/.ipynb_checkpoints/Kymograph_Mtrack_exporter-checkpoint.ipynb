{
 "cells": [
  {
   "cell_type": "code",
   "execution_count": 1,
   "id": "db7f47a5",
   "metadata": {},
   "outputs": [],
   "source": [
    "from pyfiji import kymo_mtrack_export"
   ]
  },
  {
   "cell_type": "code",
   "execution_count": null,
   "id": "7040306a",
   "metadata": {},
   "outputs": [],
   "source": [
    "sourcedir = '/home/varunkapoor/Kymo_mt/'\n",
    "savedir = '/home/varunkapoor/Kymo_MT/Ransac_analysis'\n",
    "\n",
    "\n",
    "median_radius = 2"
   ]
  },
  {
   "cell_type": "code",
   "execution_count": null,
   "id": "83a0256d",
   "metadata": {},
   "outputs": [],
   "source": [
    "Path(savedir).mkdir(exist_ok=True)\n",
    "Raw_path = os.path.join(sourcedir, '*.tif')\n",
    "filesRaw = glob.glob(Raw_path)\n",
    "for fname in filesRaw:\n",
    "    kymo_mtrack_export(fname, savedir, median_radius = median_radius)"
   ]
  }
 ],
 "metadata": {
  "kernelspec": {
   "display_name": "Python [conda env:naparienv] *",
   "language": "python",
   "name": "conda-env-naparienv-py"
  },
  "language_info": {
   "codemirror_mode": {
    "name": "ipython",
    "version": 3
   },
   "file_extension": ".py",
   "mimetype": "text/x-python",
   "name": "python",
   "nbconvert_exporter": "python",
   "pygments_lexer": "ipython3",
   "version": "3.9.0"
  }
 },
 "nbformat": 4,
 "nbformat_minor": 5
}
